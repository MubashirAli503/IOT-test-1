{
  "nbformat": 4,
  "nbformat_minor": 0,
  "metadata": {
    "colab": {
      "name": "python programming test .ipynb",
      "provenance": [],
      "collapsed_sections": []
    },
    "kernelspec": {
      "name": "python3",
      "display_name": "Python 3"
    },
    "language_info": {
      "name": "python"
    }
  },
  "cells": [
    {
      "cell_type": "code",
      "execution_count": null,
      "metadata": {
        "colab": {
          "base_uri": "https://localhost:8080/"
        },
        "id": "j4-8Du7ldMfh",
        "outputId": "c87729bb-1968-4249-d0d5-be64e6b0184f"
      },
      "outputs": [
        {
          "output_type": "stream",
          "name": "stdout",
          "text": [
            "Enter number of elements : 5\n",
            "Enter element 1\n",
            "Enter element 2\n",
            "Enter element 3\n",
            "Enter element 4\n",
            "Enter element 5\n",
            "[1, 2, 3, 4, 5]\n",
            "\n",
            "Odd Numbers: \n",
            "1\n",
            "3\n",
            "5\n"
          ]
        }
      ],
      "source": [
        "#Q1\n",
        "list1 = []\n",
        "n = int(input(\"Enter number of elements : \"))\n",
        "for i in range( n):\n",
        "    ele = int(input(\"Enter element \"))\n",
        "    list1.append(ele)\n",
        "print(list1)\n",
        "print(\"\\nOdd Numbers: \")\n",
        "for i in range(n):\n",
        "  if list1[i]%2!=0:\n",
        "    print(list1[i])"
      ]
    },
    {
      "cell_type": "code",
      "source": [
        "sum=0 \n",
        "for i in range(n): \n",
        "  sum+=list1[i] \n",
        "print(sum)"
      ],
      "metadata": {
        "colab": {
          "base_uri": "https://localhost:8080/"
        },
        "id": "2OH3CfqomXr2",
        "outputId": "2a43953f-2b37-48da-853b-e18ea0df4cfc"
      },
      "execution_count": null,
      "outputs": [
        {
          "output_type": "stream",
          "name": "stdout",
          "text": [
            "15\n"
          ]
        }
      ]
    },
    {
      "cell_type": "code",
      "source": [
        "#Q2\n",
        "list1.reverse()\n",
        "print(list1)\n",
        "list1=list1[::-1]\n",
        "print (list1)"
      ],
      "metadata": {
        "colab": {
          "base_uri": "https://localhost:8080/"
        },
        "id": "wu4sC0zWmeId",
        "outputId": "3bd8ed74-03b3-48c6-902c-92c9ea41b65f"
      },
      "execution_count": null,
      "outputs": [
        {
          "output_type": "stream",
          "name": "stdout",
          "text": [
            "[5, 4, 3, 2, 1]\n",
            "[1, 2, 3, 4, 5]\n"
          ]
        }
      ]
    },
    {
      "cell_type": "code",
      "source": [
        "#Q4\n",
        "list1.sort()\n",
        "print (\"top two max numbers:\")\n",
        "print(list1[:-3:-1])"
      ],
      "metadata": {
        "colab": {
          "base_uri": "https://localhost:8080/"
        },
        "id": "M8SgoPVGnHly",
        "outputId": "a7aee4dd-de45-487e-e952-c9721352151e"
      },
      "execution_count": null,
      "outputs": [
        {
          "output_type": "stream",
          "name": "stdout",
          "text": [
            "top two max numbers:\n",
            "[5, 4]\n"
          ]
        }
      ]
    },
    {
      "cell_type": "code",
      "source": [
        "#Q5\n",
        "print (\"second highest number:\")\n",
        "print(list1[-2])"
      ],
      "metadata": {
        "colab": {
          "base_uri": "https://localhost:8080/"
        },
        "id": "lGvwQR6ro20p",
        "outputId": "23e69bb3-9b5c-4861-dcd7-bd449fef0c3a"
      },
      "execution_count": null,
      "outputs": [
        {
          "output_type": "stream",
          "name": "stdout",
          "text": [
            "second highest number:\n",
            "4\n"
          ]
        }
      ]
    },
    {
      "cell_type": "code",
      "source": [
        "#Q6\n",
        "list1.sort(reverse=True)\n",
        "print (list1)"
      ],
      "metadata": {
        "colab": {
          "base_uri": "https://localhost:8080/"
        },
        "id": "H9E33zXdp3o9",
        "outputId": "a472a00e-f318-44c1-d328-26684993146c"
      },
      "execution_count": null,
      "outputs": [
        {
          "output_type": "stream",
          "name": "stdout",
          "text": [
            "[5, 4, 3, 2, 1]\n"
          ]
        }
      ]
    },
    {
      "cell_type": "code",
      "source": [
        "#Q7\n",
        "str1=input(\"Enter string:\")\n",
        "b=\"\"\n",
        "for i in str1:\n",
        "    if i not in b:\n",
        "        b=b+i\n",
        "print(b)\n",
        "\n",
        "       "
      ],
      "metadata": {
        "colab": {
          "base_uri": "https://localhost:8080/"
        },
        "id": "9lhzGGnIsQzo",
        "outputId": "86c40fab-336f-4778-ef88-d75b69503d03"
      },
      "execution_count": null,
      "outputs": [
        {
          "output_type": "stream",
          "name": "stdout",
          "text": [
            "Enter string:boom\n",
            "bom\n"
          ]
        }
      ]
    },
    {
      "cell_type": "code",
      "source": [
        "#Q8\n",
        "ch = input(\"Please Enter Your Own Character : \")\n",
        "if len(ch)==1:\n",
        "  if(ch == 'a' or ch == 'e' or ch == 'i' or ch == 'o' or ch == 'u' or ch == 'A'\n",
        "       or ch == 'E' or ch == 'I' or ch == 'O' or ch == 'U'):\n",
        "    print(\"The Given Character \", ch, \"is a Vowel\")\n",
        "  else:\n",
        "      print(\"The Given Character \", ch, \"is a Consonant\")\n",
        "else:\n",
        "  print(\"Enter only one character!\")\n"
      ],
      "metadata": {
        "colab": {
          "base_uri": "https://localhost:8080/"
        },
        "id": "IPTduNVx0IMo",
        "outputId": "fdf062a6-61cf-4aab-9671-7a5dccd2c668"
      },
      "execution_count": null,
      "outputs": [
        {
          "output_type": "stream",
          "name": "stdout",
          "text": [
            "Please Enter Your Own Character : ba\n",
            "Enter only one character!\n"
          ]
        }
      ]
    },
    {
      "cell_type": "code",
      "source": [
        "#Q9\n",
        "num=(int(input(\"Enter length for factorial = \")))\n",
        "factorial = 1\n",
        "if num < 0:\n",
        "   print(\"Sorry, factorial does not exist for negative numbers\")\n",
        "elif num == 0:\n",
        "   print(\"The factorial of 0 is 1\")\n",
        "else:\n",
        "   for i in range(1,num + 1):\n",
        "       factorial = factorial*i\n",
        "   print(\"The factorial of\",num,\"is\",factorial)"
      ],
      "metadata": {
        "colab": {
          "base_uri": "https://localhost:8080/"
        },
        "id": "A8aGi83Z48mf",
        "outputId": "0acde72c-3a5d-4f88-d925-499a7f523e5b"
      },
      "execution_count": null,
      "outputs": [
        {
          "output_type": "stream",
          "name": "stdout",
          "text": [
            "Enter length for factorial = 5\n",
            "The factorial of 5 is 120\n"
          ]
        }
      ]
    },
    {
      "cell_type": "code",
      "source": [
        "#Q10\n",
        "\n",
        "list2=[]\n",
        "n = int(input(\"Enter number of elements : \"))\n",
        "for i in range(n):\n",
        "    ele = int(input(\"Enter element \"))\n",
        "    list2.append(ele)\n",
        "list3=list1+list2\n",
        "print(list3)"
      ],
      "metadata": {
        "colab": {
          "base_uri": "https://localhost:8080/"
        },
        "id": "owx24xAr4DGf",
        "outputId": "ff324645-825a-46b2-cc82-a1bd35002ab4"
      },
      "execution_count": null,
      "outputs": [
        {
          "output_type": "stream",
          "name": "stdout",
          "text": [
            "Enter number of elements : 5\n",
            "Enter element 6\n",
            "Enter element 7\n",
            "Enter element 8\n",
            "Enter element 9\n",
            "Enter element 10\n",
            "[1, 2, 3, 4, 5, 6, 7, 8, 9, 10]\n"
          ]
        }
      ]
    }
  ]
}